{
 "cells": [
  {
   "cell_type": "markdown",
   "metadata": {},
   "source": [
    "# Instalando o pyrebase"
   ]
  },
  {
   "cell_type": "code",
   "execution_count": 1,
   "metadata": {},
   "outputs": [
    {
     "name": "stdout",
     "output_type": "stream",
     "text": [
      "Requirement already satisfied: pyrebase in /home/visus/.pyenv/versions/3.8.0/lib/python3.8/site-packages (3.0.27)\n",
      "Requirement already satisfied: pycryptodome==3.4.3 in /home/visus/.pyenv/versions/3.8.0/lib/python3.8/site-packages (from pyrebase) (3.4.3)\n",
      "Requirement already satisfied: requests==2.11.1 in /home/visus/.pyenv/versions/3.8.0/lib/python3.8/site-packages (from pyrebase) (2.11.1)\n",
      "Requirement already satisfied: python-jwt==2.0.1 in /home/visus/.pyenv/versions/3.8.0/lib/python3.8/site-packages (from pyrebase) (2.0.1)\n",
      "Requirement already satisfied: oauth2client==3.0.0 in /home/visus/.pyenv/versions/3.8.0/lib/python3.8/site-packages (from pyrebase) (3.0.0)\n",
      "Requirement already satisfied: gcloud==0.17.0 in /home/visus/.pyenv/versions/3.8.0/lib/python3.8/site-packages (from pyrebase) (0.17.0)\n",
      "Requirement already satisfied: requests-toolbelt==0.7.0 in /home/visus/.pyenv/versions/3.8.0/lib/python3.8/site-packages (from pyrebase) (0.7.0)\n",
      "Requirement already satisfied: jws>=0.1.3 in /home/visus/.pyenv/versions/3.8.0/lib/python3.8/site-packages (from python-jwt==2.0.1->pyrebase) (0.1.3)\n",
      "Requirement already satisfied: httplib2>=0.9.1 in /home/visus/.pyenv/versions/3.8.0/lib/python3.8/site-packages (from oauth2client==3.0.0->pyrebase) (0.18.1)\n",
      "Requirement already satisfied: pyasn1>=0.1.7 in /home/visus/.pyenv/versions/3.8.0/lib/python3.8/site-packages (from oauth2client==3.0.0->pyrebase) (0.4.8)\n",
      "Requirement already satisfied: pyasn1-modules>=0.0.5 in /home/visus/.pyenv/versions/3.8.0/lib/python3.8/site-packages (from oauth2client==3.0.0->pyrebase) (0.2.8)\n",
      "Requirement already satisfied: rsa>=3.1.4 in /home/visus/.pyenv/versions/3.8.0/lib/python3.8/site-packages (from oauth2client==3.0.0->pyrebase) (4.6)\n",
      "Requirement already satisfied: six>=1.6.1 in /home/visus/.pyenv/versions/3.8.0/lib/python3.8/site-packages (from oauth2client==3.0.0->pyrebase) (1.15.0)\n",
      "Requirement already satisfied: googleapis-common-protos in /home/visus/.pyenv/versions/3.8.0/lib/python3.8/site-packages (from gcloud==0.17.0->pyrebase) (1.52.0)\n",
      "Requirement already satisfied: protobuf!=3.0.0.b2.post1,>=3.0.0b2 in /home/visus/.pyenv/versions/3.8.0/lib/python3.8/site-packages (from gcloud==0.17.0->pyrebase) (3.13.0)\n",
      "Requirement already satisfied: setuptools in /home/visus/.pyenv/versions/3.8.0/lib/python3.8/site-packages (from protobuf!=3.0.0.b2.post1,>=3.0.0b2->gcloud==0.17.0->pyrebase) (41.2.0)\n",
      "\u001b[33mWARNING: You are using pip version 20.2.3; however, version 20.2.4 is available.\n",
      "You should consider upgrading via the '/home/visus/.pyenv/versions/3.8.0/bin/python3.8 -m pip install --upgrade pip' command.\u001b[0m\n"
     ]
    }
   ],
   "source": [
    "# Install a pip package in the current Jupyter kernel\n",
    "import sys\n",
    "!{sys.executable} -m pip install pyrebase"
   ]
  },
  {
   "cell_type": "markdown",
   "metadata": {},
   "source": [
    "## Inicializando"
   ]
  },
  {
   "cell_type": "code",
   "execution_count": 1,
   "metadata": {},
   "outputs": [],
   "source": [
    "import os\n",
    "import pyrebase\n",
    "from dotenv import load_dotenv\n",
    "load_dotenv()\n",
    "from getpass import getpass\n",
    "\n",
    "firebaseConfig = {\n",
    "    \"apiKey\": os.getenv(\"apiKey\"),\n",
    "    \"authDomain\": os.getenv(\"authDomain\"),\n",
    "    \"databaseURL\": os.getenv(\"databaseURL\"),\n",
    "    \"projectId\": os.getenv(\"projectId\"),\n",
    "    \"storageBucket\": os.getenv(\"storageBucket\"),\n",
    "    \"messagingSenderId\": os.getenv(\"messagingSenderId\"),\n",
    "    \"appId\": os.getenv(\"appId\"),\n",
    "    \"measurementId\": os.getenv(\"measurementId\") \n",
    "}\n",
    "\n",
    "firebase = pyrebase.initialize_app(firebaseConfig)\n",
    "storage = firebase.storage()"
   ]
  },
  {
   "cell_type": "code",
   "execution_count": 2,
   "metadata": {},
   "outputs": [
    {
     "data": {
      "text/plain": [
       "{'name': 'imagens/erro.png',\n",
       " 'bucket': 'estudo-63ee3.appspot.com',\n",
       " 'generation': '1603999154752463',\n",
       " 'metageneration': '1',\n",
       " 'contentType': 'image/png',\n",
       " 'timeCreated': '2020-10-29T19:19:14.752Z',\n",
       " 'updated': '2020-10-29T19:19:14.752Z',\n",
       " 'storageClass': 'STANDARD',\n",
       " 'size': '276324',\n",
       " 'md5Hash': 'UMBOWV6TCli9sD6/2d837w==',\n",
       " 'contentEncoding': 'identity',\n",
       " 'contentDisposition': \"inline; filename*=utf-8''erro.png\",\n",
       " 'crc32c': 'quixyg==',\n",
       " 'etag': 'CM+X277C2uwCEAE=',\n",
       " 'downloadTokens': '85e234a8-57e1-4158-845b-e84a7bde00e1'}"
      ]
     },
     "execution_count": 2,
     "metadata": {},
     "output_type": "execute_result"
    }
   ],
   "source": [
    "caminho_local_da_imagem = \"erro.png\"\n",
    "caminho_no_cloud = \"imagens/\" + caminho_local_da_imagem\n",
    "imagem = storage.child(caminho_no_cloud).put(caminho_local_da_imagem)\n",
    "imagem"
   ]
  },
  {
   "cell_type": "markdown",
   "metadata": {},
   "source": [
    "## Pegando a url"
   ]
  },
  {
   "cell_type": "code",
   "execution_count": 16,
   "metadata": {},
   "outputs": [
    {
     "name": "stdout",
     "output_type": "stream",
     "text": [
      "https://firebasestorage.googleapis.com/v0/b/estudo-63ee3.appspot.com/o/imagens%2Ferro.png?alt=media&token=d974662d-fde2-4e38-a7ee-7c970be269e9\n"
     ]
    }
   ],
   "source": [
    "print(storage.child(caminho_no_cloud).get_url(imagem['downloadTokens']))"
   ]
  },
  {
   "cell_type": "markdown",
   "metadata": {},
   "source": [
    "## Pegando a data de criação"
   ]
  },
  {
   "cell_type": "code",
   "execution_count": 4,
   "metadata": {},
   "outputs": [
    {
     "name": "stdout",
     "output_type": "stream",
     "text": [
      "2020-10-29T19:19:14.752Z\n"
     ]
    }
   ],
   "source": [
    "print(imagem['timeCreated'])"
   ]
  },
  {
   "cell_type": "code",
   "execution_count": 10,
   "metadata": {},
   "outputs": [
    {
     "name": "stdout",
     "output_type": "stream",
     "text": [
      "2020-10-29\n"
     ]
    }
   ],
   "source": [
    "print(imagem['timeCreated'][0:10])"
   ]
  }
 ],
 "metadata": {
  "kernelspec": {
   "display_name": "Python 3",
   "language": "python",
   "name": "python3"
  },
  "language_info": {
   "codemirror_mode": {
    "name": "ipython",
    "version": 3
   },
   "file_extension": ".py",
   "mimetype": "text/x-python",
   "name": "python",
   "nbconvert_exporter": "python",
   "pygments_lexer": "ipython3",
   "version": "3.8.0"
  }
 },
 "nbformat": 4,
 "nbformat_minor": 4
}
