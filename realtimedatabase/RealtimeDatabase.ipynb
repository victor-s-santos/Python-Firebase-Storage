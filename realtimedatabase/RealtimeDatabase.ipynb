{
 "cells": [
  {
   "cell_type": "markdown",
   "metadata": {},
   "source": [
    "# Configurando o Firebase"
   ]
  },
  {
   "cell_type": "code",
   "execution_count": 1,
   "metadata": {},
   "outputs": [],
   "source": [
    "import os \n",
    "from dotenv import load_dotenv\n",
    "from getpass import getpass\n",
    "import pyrebase\n",
    "load_dotenv()\n",
    "\n",
    "#firebase configs\n",
    "firebase_config = {\n",
    "    \"apiKey\": os.getenv(\"apiKey\"),\n",
    "    \"authDomain\": os.getenv(\"authDomain\"),\n",
    "    \"databaseURL\": os.getenv(\"databaseURL\"),\n",
    "    \"projecId\": os.getenv(\"projectId\"),\n",
    "    \"storageBucket\": os.getenv(\"storageBucket\"),\n",
    "    \"messagingSenderId\": os.getenv(\"messagingSenderId\"),\n",
    "    \"appId\": os.getenv(\"appId\")\n",
    "}\n",
    "#print(firebase_config)"
   ]
  },
  {
   "cell_type": "markdown",
   "metadata": {},
   "source": [
    "# Inicializando o Firebase"
   ]
  },
  {
   "cell_type": "code",
   "execution_count": 2,
   "metadata": {},
   "outputs": [],
   "source": [
    "firebase = pyrebase.initialize_app(firebase_config)\n",
    "db = firebase.database()"
   ]
  },
  {
   "cell_type": "markdown",
   "metadata": {},
   "source": [
    "# Inserindo valores (push)"
   ]
  },
  {
   "cell_type": "code",
   "execution_count": 8,
   "metadata": {},
   "outputs": [
    {
     "data": {
      "text/plain": [
       "{'name': '-MPAAM1HP_bHMJP7zjS8'}"
      ]
     },
     "execution_count": 8,
     "metadata": {},
     "output_type": "execute_result"
    }
   ],
   "source": [
    "data = {\"user_name\": \"vsantos\"}\n",
    "db.child(\"usuarios\").push(data)"
   ]
  },
  {
   "cell_type": "markdown",
   "metadata": {},
   "source": [
    "# Criando a própria chave (set)"
   ]
  },
  {
   "cell_type": "code",
   "execution_count": 5,
   "metadata": {},
   "outputs": [
    {
     "data": {
      "text/plain": [
       "{'user_name': 'vsantos'}"
      ]
     },
     "execution_count": 5,
     "metadata": {},
     "output_type": "execute_result"
    }
   ],
   "source": [
    "db.child(\"usuarios\").child(\"nome\").set(data)"
   ]
  },
  {
   "cell_type": "markdown",
   "metadata": {},
   "source": [
    "# Atualizando um valor existente"
   ]
  },
  {
   "cell_type": "code",
   "execution_count": 6,
   "metadata": {},
   "outputs": [
    {
     "data": {
      "text/plain": [
       "{'user_name': 'vsantos93'}"
      ]
     },
     "execution_count": 6,
     "metadata": {},
     "output_type": "execute_result"
    }
   ],
   "source": [
    "db.child(\"usuarios\").child(\"nome\").update({\"user_name\": \"vsantos93\"})"
   ]
  },
  {
   "cell_type": "markdown",
   "metadata": {},
   "source": [
    "# Removendo um valor do banco de dados"
   ]
  },
  {
   "cell_type": "code",
   "execution_count": 7,
   "metadata": {},
   "outputs": [],
   "source": [
    "db.child(\"usuarios\").child(\"nome\").remove()"
   ]
  },
  {
   "cell_type": "markdown",
   "metadata": {},
   "source": [
    "# Recuperando dados"
   ]
  },
  {
   "cell_type": "markdown",
   "metadata": {},
   "source": [
    "* ## Por valor (val)"
   ]
  },
  {
   "cell_type": "code",
   "execution_count": 9,
   "metadata": {},
   "outputs": [
    {
     "name": "stdout",
     "output_type": "stream",
     "text": [
      "OrderedDict([('-MPAAM1HP_bHMJP7zjS8', {'user_name': 'vsantos'})])\n"
     ]
    }
   ],
   "source": [
    "usuarios = db.child(\"usuarios\").get()\n",
    "print(usuarios.val())"
   ]
  },
  {
   "cell_type": "markdown",
   "metadata": {},
   "source": [
    "* ## Por chave (key)"
   ]
  },
  {
   "cell_type": "code",
   "execution_count": 10,
   "metadata": {},
   "outputs": [
    {
     "name": "stdout",
     "output_type": "stream",
     "text": [
      "usuarios\n"
     ]
    }
   ],
   "source": [
    "print(usuarios.key())"
   ]
  },
  {
   "cell_type": "markdown",
   "metadata": {},
   "source": [
    "* ## Iterando (each)"
   ]
  },
  {
   "cell_type": "code",
   "execution_count": 16,
   "metadata": {},
   "outputs": [
    {
     "name": "stdout",
     "output_type": "stream",
     "text": [
      "user_name 0: kakaroto\n",
      "user_name 1: vegeta\n",
      "user_name 2: freeza\n",
      "user_name 3: broly\n",
      "user_name 4: bills\n"
     ]
    }
   ],
   "source": [
    "#lista de usernames\n",
    "user_names = [\n",
    "              {'user_name' : 'kakaroto'}, \n",
    "              {'user_name' : 'vegeta'}, \n",
    "              {'user_name' : 'freeza'}, \n",
    "              {'user_name' : 'broly'}, \n",
    "              {'user_name' : 'bills'}\n",
    "             ]\n",
    "#inserindo estes usernames\n",
    "i = 0\n",
    "for usuario in user_names:\n",
    "    for key, value in usuario.items():\n",
    "        db.child('usuarios').child(f'{key} {i}').set(value)\n",
    "        print(f'{key} {i}:', value)\n",
    "        i += 1"
   ]
  },
  {
   "cell_type": "code",
   "execution_count": 17,
   "metadata": {},
   "outputs": [
    {
     "name": "stdout",
     "output_type": "stream",
     "text": [
      "user_name 0 kakaroto\n",
      "user_name 1 vegeta\n",
      "user_name 2 freeza\n",
      "user_name 3 broly\n",
      "user_name 4 bills\n"
     ]
    }
   ],
   "source": [
    "usuarios = db.child('usuarios').get()\n",
    "for usuario in usuarios.each():\n",
    "    print(usuario.key(), usuario.val())"
   ]
  },
  {
   "cell_type": "markdown",
   "metadata": {},
   "source": [
    "# Consultas Complexas\n",
    "* Pode ser necessária a instalação do pyrebase4, caso não a instalação por requirements não tenha sido feita"
   ]
  },
  {
   "cell_type": "markdown",
   "metadata": {},
   "source": [
    "* ## Order By Child"
   ]
  },
  {
   "cell_type": "markdown",
   "metadata": {},
   "source": [
    "* ## Equal to"
   ]
  },
  {
   "cell_type": "markdown",
   "metadata": {},
   "source": [
    "* ##  Start_at and End_at"
   ]
  },
  {
   "cell_type": "markdown",
   "metadata": {},
   "source": [
    "* ## limit_to_first and limit_to_last"
   ]
  },
  {
   "cell_type": "markdown",
   "metadata": {},
   "source": [
    "* ## order_by_key"
   ]
  },
  {
   "cell_type": "markdown",
   "metadata": {},
   "source": [
    "* ## order_by_value"
   ]
  }
 ],
 "metadata": {
  "kernelspec": {
   "display_name": "Python 3",
   "language": "python",
   "name": "python3"
  },
  "language_info": {
   "codemirror_mode": {
    "name": "ipython",
    "version": 3
   },
   "file_extension": ".py",
   "mimetype": "text/x-python",
   "name": "python",
   "nbconvert_exporter": "python",
   "pygments_lexer": "ipython3",
   "version": "3.6.10"
  }
 },
 "nbformat": 4,
 "nbformat_minor": 4
}
