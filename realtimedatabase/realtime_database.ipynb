{
 "cells": [
  {
   "cell_type": "code",
   "execution_count": 2,
   "metadata": {},
   "outputs": [],
   "source": [
    "import os\n",
    "import pyrebase\n",
    "from dotenv import load_dotenv\n",
    "load_dotenv()\n",
    "from getpass import getpass\n",
    "\n",
    "firebaseConfig = {\n",
    "    \"apiKey\": os.getenv(\"apiKey\"),\n",
    "    \"authDomain\": os.getenv(\"authDomain\"),\n",
    "    \"databaseURL\": os.getenv(\"databaseURL\"),\n",
    "    \"projectId\": os.getenv(\"projectId\"),\n",
    "    \"storageBucket\": os.getenv(\"storageBucket\"),\n",
    "    \"messagingSenderId\": os.getenv(\"messagingSenderId\"),\n",
    "    \"appId\": os.getenv(\"appId\"),\n",
    "    \"measurementId\": os.getenv(\"measurementId\") \n",
    "}\n",
    "\n",
    "firebase = pyrebase.initialize_app(firebaseConfig)\n",
    "\n",
    "db = firebase.database()"
   ]
  },
  {
   "cell_type": "code",
   "execution_count": 2,
   "metadata": {},
   "outputs": [],
   "source": [
    "#definindo o registro\n",
    "registro = {\n",
    "    \"nome\": \"Victor Santos Silva\",\n",
    "    \"cpf\": \"123.456.789-10\",\n",
    "    \"cep\": \"11250000\",\n",
    "    \"rua\": \"Miguel Seiad Bichir\",\n",
    "    \"numero\": 1270,\n",
    "    \"bairro\": \"Vila Agaó\",\n",
    "    \"cidade\": \"Bertioga\",\n",
    "    \"estado\": \"São Paulo\",\n",
    "    \"telefone\": \"1333163316\",\n",
    "    \"email\": \"victor.santos.cd@gmail.com\",\n",
    "    \"senha\": \"minhasenhasupersecreta\"\n",
    "}"
   ]
  },
  {
   "cell_type": "code",
   "execution_count": 3,
   "metadata": {},
   "outputs": [],
   "source": [
    "#definindo o registro2\n",
    "registro2 = {\n",
    "    \"nome\": \"Suelen Simões Costa\",\n",
    "    \"cpf\": \"123.456.789-10\",\n",
    "    \"cep\": \"11250000\",\n",
    "    \"rua\": \"Miguel Seiad Bichir\",\n",
    "    \"numero\": 1270,\n",
    "    \"bairro\": \"Vila Agaó\",\n",
    "    \"cidade\": \"Bertioga\",\n",
    "    \"estado\": \"São Paulo\",\n",
    "    \"telefone\": \"1333163316\",\n",
    "    \"email\": \"victor.santos.cd@gmail.com\",\n",
    "    \"senha\": \"minhasenhasupersecreta\"\n",
    "}"
   ]
  },
  {
   "cell_type": "markdown",
   "metadata": {},
   "source": [
    "## Adicionando usuário"
   ]
  },
  {
   "cell_type": "code",
   "execution_count": 4,
   "metadata": {},
   "outputs": [
    {
     "name": "stdout",
     "output_type": "stream",
     "text": [
      "O registro foi inserido no banco de dados!\n"
     ]
    }
   ],
   "source": [
    "#Inserindo o registro\n",
    "db.child(\"usuarios\").push(registro)\n",
    "print(\"O registro foi inserido no banco de dados!\")"
   ]
  },
  {
   "cell_type": "code",
   "execution_count": 5,
   "metadata": {},
   "outputs": [
    {
     "name": "stdout",
     "output_type": "stream",
     "text": [
      "O registro foi inserido no banco de dados!\n"
     ]
    }
   ],
   "source": [
    "#Inserindo o registro2\n",
    "db.child(\"usuarios\").child(\"usuario\").set(registro2)\n",
    "print(\"O registro foi inserido no banco de dados!\")\n",
    "#desta forma, o usuário é inserido na chave usuário, ao invés de criada uma string aleatória para isto"
   ]
  },
  {
   "cell_type": "markdown",
   "metadata": {},
   "source": [
    "## Neste ponto, temos dois registros no banco de dados."
   ]
  },
  {
   "cell_type": "code",
   "execution_count": 6,
   "metadata": {},
   "outputs": [
    {
     "name": "stdout",
     "output_type": "stream",
     "text": [
      "Registro atualizado com sucesso!\n"
     ]
    }
   ],
   "source": [
    "db.child(\"usuarios\").child(\"usuario\").update({\"cidade\": \"Botucatu\"})\n",
    "print(\"Registro atualizado com sucesso!\")"
   ]
  },
  {
   "cell_type": "code",
   "execution_count": 7,
   "metadata": {},
   "outputs": [
    {
     "name": "stdout",
     "output_type": "stream",
     "text": [
      "OrderedDict([('-MKePHAm60i9Z97HEjtN', {'bairro': 'Vila Agaó', 'cep': '11250123', 'cidade': 'Bertioga', 'cpf': '12345666651', 'email': 'victor.s.silv22a@unesp.br', 'estado': 'São Paulo', 'nome': 'Victor', 'numero': '117', 'rua': 'Miguel Seiad ', 'senha': '$5$rounds=535000$Ez.Dd5ocZW3aI1pd$uV/RP./maH.e0UuAcUfpCrE/tVvuazBY663X1Ka0RH0'}), ('-MKePrKUt0flEawWczdR', {'bairro': 'Vila Agaó', 'cep': '11250123', 'cidade': 'Bertioga', 'cpf': '12343266654', 'email': 'susu3222@email.com', 'estado': 'São Paulo', 'nome': 'Victor Santos', 'numero': '117', 'rua': 'Miguel Seiad ', 'senha': '$5$rounds=535000$JG8VrAk6MO5X6HGb$n2PCGWoBgzWHlOwpKgqnHZz34TWrA5GWRpW4H1S5vSC'}), ('-MKed9DCLQ48WyBDMWct', {'bairro': 'Vila Agaó', 'cep': '11250000', 'cidade': 'Bertioga', 'cpf': '123.456.789-10', 'email': 'victor.santos.cd@gmail.com', 'estado': 'São Paulo', 'nome': 'Victor Santos Silva', 'numero': 1270, 'rua': 'Miguel Seiad Bichir', 'senha': 'minhasenhasupersecreta', 'telefone': '1333163316'}), ('usuario', {'bairro': 'Vila Agaó', 'cep': '11250000', 'cidade': 'Botucatu', 'cpf': '123.456.789-10', 'email': 'victor.santos.cd@gmail.com', 'estado': 'São Paulo', 'nome': 'Suelen Simões Costa', 'numero': 1270, 'rua': 'Miguel Seiad Bichir', 'senha': 'minhasenhasupersecreta', 'telefone': '1333163316'})])\n"
     ]
    }
   ],
   "source": [
    "usuarios = db.child(\"usuarios\").get()\n",
    "print(usuarios.val())"
   ]
  },
  {
   "cell_type": "code",
   "execution_count": 8,
   "metadata": {},
   "outputs": [
    {
     "name": "stdout",
     "output_type": "stream",
     "text": [
      "-MKePHAm60i9Z97HEjtN {'bairro': 'Vila Agaó', 'cep': '11250123', 'cidade': 'Bertioga', 'cpf': '12345666651', 'email': 'victor.s.silv22a@unesp.br', 'estado': 'São Paulo', 'nome': 'Victor', 'numero': '117', 'rua': 'Miguel Seiad ', 'senha': '$5$rounds=535000$Ez.Dd5ocZW3aI1pd$uV/RP./maH.e0UuAcUfpCrE/tVvuazBY663X1Ka0RH0'}\n",
      "-MKePrKUt0flEawWczdR {'bairro': 'Vila Agaó', 'cep': '11250123', 'cidade': 'Bertioga', 'cpf': '12343266654', 'email': 'susu3222@email.com', 'estado': 'São Paulo', 'nome': 'Victor Santos', 'numero': '117', 'rua': 'Miguel Seiad ', 'senha': '$5$rounds=535000$JG8VrAk6MO5X6HGb$n2PCGWoBgzWHlOwpKgqnHZz34TWrA5GWRpW4H1S5vSC'}\n",
      "-MKed9DCLQ48WyBDMWct {'bairro': 'Vila Agaó', 'cep': '11250000', 'cidade': 'Bertioga', 'cpf': '123.456.789-10', 'email': 'victor.santos.cd@gmail.com', 'estado': 'São Paulo', 'nome': 'Victor Santos Silva', 'numero': 1270, 'rua': 'Miguel Seiad Bichir', 'senha': 'minhasenhasupersecreta', 'telefone': '1333163316'}\n",
      "usuario {'bairro': 'Vila Agaó', 'cep': '11250000', 'cidade': 'Botucatu', 'cpf': '123.456.789-10', 'email': 'victor.santos.cd@gmail.com', 'estado': 'São Paulo', 'nome': 'Suelen Simões Costa', 'numero': 1270, 'rua': 'Miguel Seiad Bichir', 'senha': 'minhasenhasupersecreta', 'telefone': '1333163316'}\n"
     ]
    }
   ],
   "source": [
    "#iterando com um loop\n",
    "for usuario in usuarios.each():\n",
    "    print(usuario.key(), usuario.val())"
   ]
  },
  {
   "cell_type": "markdown",
   "metadata": {},
   "source": [
    "## Removendo usuário"
   ]
  },
  {
   "cell_type": "code",
   "execution_count": 53,
   "metadata": {},
   "outputs": [
    {
     "name": "stdout",
     "output_type": "stream",
     "text": [
      "Usuário removido com sucesso!\n"
     ]
    }
   ],
   "source": [
    "db.child(\"usuarios\").child(\"usuario\").remove()\n",
    "print(\"Usuário removido com sucesso!\")"
   ]
  },
  {
   "cell_type": "code",
   "execution_count": 27,
   "metadata": {},
   "outputs": [
    {
     "data": {
      "text/plain": [
       "<pyrebase.pyrebase.PyreResponse at 0x7faa8e67c580>"
      ]
     },
     "execution_count": 27,
     "metadata": {},
     "output_type": "execute_result"
    }
   ],
   "source": [
    "usuarios = db.child(\"usuarios\").get()\n",
    "usuarios"
   ]
  },
  {
   "cell_type": "code",
   "execution_count": 58,
   "metadata": {},
   "outputs": [
    {
     "data": {
      "text/plain": [
       "('usuarios',\n",
       " OrderedDict([('-MKePHAm60i9Z97HEjtN',\n",
       "               {'bairro': 'Vila Agaó',\n",
       "                'cep': '11250123',\n",
       "                'cidade': 'Bertioga',\n",
       "                'cpf': '12345666651',\n",
       "                'email': 'victor.s.silv22a@unesp.br',\n",
       "                'estado': 'São Paulo',\n",
       "                'nome': 'Victor',\n",
       "                'numero': '117',\n",
       "                'rua': 'Miguel Seiad ',\n",
       "                'senha': '$5$rounds=535000$Ez.Dd5ocZW3aI1pd$uV/RP./maH.e0UuAcUfpCrE/tVvuazBY663X1Ka0RH0'}),\n",
       "              ('-MKePrKUt0flEawWczdR',\n",
       "               {'bairro': 'Vila Agaó',\n",
       "                'cep': '11250123',\n",
       "                'cidade': 'Bertioga',\n",
       "                'cpf': '12343266654',\n",
       "                'email': 'susu3222@email.com',\n",
       "                'estado': 'São Paulo',\n",
       "                'nome': 'Victor Santos',\n",
       "                'numero': '117',\n",
       "                'rua': 'Miguel Seiad ',\n",
       "                'senha': '$5$rounds=535000$JG8VrAk6MO5X6HGb$n2PCGWoBgzWHlOwpKgqnHZz34TWrA5GWRpW4H1S5vSC'}),\n",
       "              ('-MKed9DCLQ48WyBDMWct',\n",
       "               {'bairro': 'Vila Agaó',\n",
       "                'cep': '11250000',\n",
       "                'cidade': 'Bertioga',\n",
       "                'cpf': '123.456.789-10',\n",
       "                'email': 'victor.santos.cd@gmail.com',\n",
       "                'estado': 'São Paulo',\n",
       "                'nome': 'Victor Santos Silva',\n",
       "                'numero': 1270,\n",
       "                'rua': 'Miguel Seiad Bichir',\n",
       "                'senha': 'minhasenhasupersecreta',\n",
       "                'telefone': '1333163316'}),\n",
       "              ('usuario',\n",
       "               {'bairro': 'Vila Agaó',\n",
       "                'cep': '11250000',\n",
       "                'cidade': 'Botucatu',\n",
       "                'cpf': '123.456.789-10',\n",
       "                'email': 'victor.santos.cd@gmail.com',\n",
       "                'estado': 'São Paulo',\n",
       "                'nome': 'Suelen Simões Costa',\n",
       "                'numero': 1270,\n",
       "                'rua': 'Miguel Seiad Bichir',\n",
       "                'senha': 'minhasenhasupersecreta',\n",
       "                'telefone': '1333163316'})]))"
      ]
     },
     "execution_count": 58,
     "metadata": {},
     "output_type": "execute_result"
    }
   ],
   "source": [
    "usuarios.key(), usuarios.val()"
   ]
  },
  {
   "cell_type": "markdown",
   "metadata": {},
   "source": [
    "## Consultas Avançadas"
   ]
  },
  {
   "cell_type": "code",
   "execution_count": 1,
   "metadata": {},
   "outputs": [
    {
     "name": "stdout",
     "output_type": "stream",
     "text": [
      "Collecting gcloud==0.17.0\n",
      "  Using cached gcloud-0.17.0.tar.gz (458 kB)\n",
      "Collecting oauth2client==3.0.0\n",
      "  Using cached oauth2client-3.0.0.tar.gz (77 kB)\n",
      "Collecting pycryptodome==3.4.3\n",
      "  Using cached pycryptodome-3.4.3.tar.gz (6.5 MB)\n",
      "Collecting requests==2.11.1\n",
      "  Using cached requests-2.11.1-py2.py3-none-any.whl (514 kB)\n",
      "Collecting requests-toolbelt==0.7.0\n",
      "  Using cached requests_toolbelt-0.7.0-py2.py3-none-any.whl (52 kB)\n",
      "Requirement already satisfied: pyrebase4 in /home/visus/.pyenv/versions/3.8.0/lib/python3.8/site-packages (4.4.1)\n",
      "Requirement already satisfied: httplib2>=0.9.1 in /home/visus/.pyenv/versions/3.8.0/lib/python3.8/site-packages (from gcloud==0.17.0) (0.18.1)\n",
      "Requirement already satisfied: googleapis-common-protos in /home/visus/.pyenv/versions/3.8.0/lib/python3.8/site-packages (from gcloud==0.17.0) (1.52.0)\n",
      "Requirement already satisfied: protobuf!=3.0.0.b2.post1,>=3.0.0b2 in /home/visus/.pyenv/versions/3.8.0/lib/python3.8/site-packages (from gcloud==0.17.0) (3.13.0)\n",
      "Requirement already satisfied: six in /home/visus/.pyenv/versions/3.8.0/lib/python3.8/site-packages (from gcloud==0.17.0) (1.15.0)\n",
      "Requirement already satisfied: pyasn1>=0.1.7 in /home/visus/.pyenv/versions/3.8.0/lib/python3.8/site-packages (from oauth2client==3.0.0) (0.4.8)\n",
      "Requirement already satisfied: pyasn1-modules>=0.0.5 in /home/visus/.pyenv/versions/3.8.0/lib/python3.8/site-packages (from oauth2client==3.0.0) (0.2.8)\n",
      "Requirement already satisfied: rsa>=3.1.4 in /home/visus/.pyenv/versions/3.8.0/lib/python3.8/site-packages (from oauth2client==3.0.0) (4.6)\n",
      "Requirement already satisfied: python-jwt==2.0.1 in /home/visus/.pyenv/versions/3.8.0/lib/python3.8/site-packages (from pyrebase4) (2.0.1)\n",
      "Requirement already satisfied: setuptools in /home/visus/.pyenv/versions/3.8.0/lib/python3.8/site-packages (from protobuf!=3.0.0.b2.post1,>=3.0.0b2->gcloud==0.17.0) (41.2.0)\n",
      "Requirement already satisfied: jws>=0.1.3 in /home/visus/.pyenv/versions/3.8.0/lib/python3.8/site-packages (from python-jwt==2.0.1->pyrebase4) (0.1.3)\n",
      "Using legacy 'setup.py install' for gcloud, since package 'wheel' is not installed.\n",
      "Using legacy 'setup.py install' for oauth2client, since package 'wheel' is not installed.\n",
      "Using legacy 'setup.py install' for pycryptodome, since package 'wheel' is not installed.\n",
      "Installing collected packages: oauth2client, gcloud, pycryptodome, requests, requests-toolbelt\n",
      "    Running setup.py install for oauth2client ... \u001b[?25ldone\n",
      "\u001b[?25h    Running setup.py install for gcloud ... \u001b[?25ldone\n",
      "\u001b[?25h    Running setup.py install for pycryptodome ... \u001b[?25ldone\n",
      "\u001b[31mERROR: After October 2020 you may experience errors when installing or updating packages. This is because pip will change the way that it resolves dependency conflicts.\n",
      "\n",
      "We recommend you use --use-feature=2020-resolver to test your packages with the new resolver before it becomes the default.\n",
      "\n",
      "pyrebase4 4.4.1 requires gcloud==0.18.3, but you'll have gcloud 0.17.0 which is incompatible.\n",
      "pyrebase4 4.4.1 requires oauth2client==4.1.2, but you'll have oauth2client 3.0.0 which is incompatible.\n",
      "pyrebase4 4.4.1 requires pycryptodome>=3.6.4, but you'll have pycryptodome 3.4.3 which is incompatible.\n",
      "pyrebase4 4.4.1 requires requests>=2.19.1, but you'll have requests 2.11.1 which is incompatible.\n",
      "pyrebase4 4.4.1 requires requests-toolbelt>=0.7.1, but you'll have requests-toolbelt 0.7.0 which is incompatible.\u001b[0m\n",
      "\u001b[?25hSuccessfully installed gcloud-0.17.0 oauth2client-3.0.0 pycryptodome-3.4.3 requests-2.11.1 requests-toolbelt-0.7.0\n",
      "\u001b[33mWARNING: You are using pip version 20.2.3; however, version 20.2.4 is available.\n",
      "You should consider upgrading via the '/home/visus/.pyenv/versions/3.8.0/bin/python3.8 -m pip install --upgrade pip' command.\u001b[0m\n"
     ]
    }
   ],
   "source": [
    "#Instalando o pyrebase4\n",
    "import sys\n",
    "!{sys.executable} -m pip install gcloud==0.17.0 oauth2client==3.0.0 pycryptodome==3.4.3 requests==2.11.1 requests-toolbelt==0.7.0 pyrebase4"
   ]
  },
  {
   "cell_type": "code",
   "execution_count": 12,
   "metadata": {},
   "outputs": [
    {
     "name": "stdout",
     "output_type": "stream",
     "text": [
      "OrderedDict([('-MKed9DCLQ48WyBDMWct', {'bairro': 'Vila Agaó', 'cep': '11250000', 'cidade': 'Bertioga', 'cpf': '123.456.789-10', 'email': 'victor.santos.cd@gmail.com', 'estado': 'São Paulo', 'nome': 'Victor Santos Silva', 'numero': 1270, 'rua': 'Miguel Seiad Bichir', 'senha': 'minhasenhasupersecreta', 'telefone': '1333163316'})]) 1\n"
     ]
    }
   ],
   "source": [
    "usuario_eu = db.child(\"usuarios\").order_by_child(\"nome\").equal_to(\"Victor Santos Silva\").get()\n",
    "print(usuario_eu.val(), len(usuario_eu.val()))"
   ]
  },
  {
   "cell_type": "code",
   "execution_count": 11,
   "metadata": {},
   "outputs": [
    {
     "name": "stdout",
     "output_type": "stream",
     "text": [
      "[] 0\n"
     ]
    }
   ],
   "source": [
    "usuario_falso = db.child(\"usuarios\").order_by_child(\"nome\").equal_to(\"Victor Silva\").get()\n",
    "print(usuario_falso.val(), len(usuario_falso.val()))"
   ]
  },
  {
   "cell_type": "code",
   "execution_count": 1,
   "metadata": {},
   "outputs": [
    {
     "name": "stdout",
     "output_type": "stream",
     "text": [
      "argon2-cffi==20.1.0\n",
      "async-generator==1.10\n",
      "attrs==20.2.0\n",
      "backcall==0.2.0\n",
      "bleach==3.2.1\n",
      "certifi==2020.6.20\n",
      "cffi==1.14.3\n",
      "chardet==3.0.4\n",
      "click==7.1.2\n",
      "decorator==4.4.2\n",
      "defusedxml==0.6.0\n",
      "entrypoints==0.3\n",
      "Flask==1.1.2\n",
      "gcloud==0.17.0\n",
      "googleapis-common-protos==1.52.0\n",
      "httplib2==0.18.1\n",
      "idna==2.10\n",
      "ipykernel==5.3.4\n",
      "ipython==7.18.1\n",
      "ipython-genutils==0.2.0\n",
      "ipywidgets==7.5.1\n",
      "itsdangerous==1.1.0\n",
      "jedi==0.17.2\n",
      "Jinja2==2.11.2\n",
      "jsonschema==3.2.0\n",
      "jupyter-client==6.1.7\n",
      "jupyter-core==4.6.3\n",
      "jupyterlab-pygments==0.1.2\n",
      "jws==0.1.3\n",
      "MarkupSafe==1.1.1\n",
      "mistune==0.8.4\n",
      "nbclient==0.5.1\n",
      "nbconvert==6.0.7\n",
      "nbformat==5.0.8\n",
      "nest-asyncio==1.4.1\n",
      "notebook==6.1.4\n",
      "oauth2client==3.0.0\n",
      "packaging==20.4\n",
      "pandocfilters==1.4.2\n",
      "parso==0.7.1\n",
      "pexpect==4.8.0\n",
      "pickleshare==0.7.5\n",
      "prometheus-client==0.8.0\n",
      "prompt-toolkit==3.0.8\n",
      "protobuf==3.13.0\n",
      "ptyprocess==0.6.0\n",
      "pyasn1==0.4.8\n",
      "pyasn1-modules==0.2.8\n",
      "pycparser==2.20\n",
      "pycryptodome==3.4.3\n",
      "Pygments==2.7.1\n",
      "pyparsing==2.4.7\n",
      "Pyrebase==3.0.27\n",
      "Pyrebase4==4.4.1\n",
      "pyrsistent==0.17.3\n",
      "python-dateutil==2.8.1\n",
      "python-dotenv==0.14.0\n",
      "python-firebase==1.2\n",
      "python-jwt==2.0.1\n",
      "pyzmq==19.0.2\n",
      "requests==2.11.1\n",
      "requests-toolbelt==0.7.0\n",
      "rsa==4.6\n",
      "Send2Trash==1.5.0\n",
      "six==1.15.0\n",
      "terminado==0.9.1\n",
      "testpath==0.4.4\n",
      "tornado==6.0.4\n",
      "traitlets==5.0.5\n",
      "urllib3==1.25.11\n",
      "wcwidth==0.2.5\n",
      "webencodings==0.5.1\n",
      "Werkzeug==1.0.1\n",
      "widgetsnbextension==3.5.1\n",
      "Note: you may need to restart the kernel to use updated packages.\n"
     ]
    }
   ],
   "source": [
    "pip freeze"
   ]
  }
 ],
 "metadata": {
  "kernelspec": {
   "display_name": "Python 3",
   "language": "python",
   "name": "python3"
  },
  "language_info": {
   "codemirror_mode": {
    "name": "ipython",
    "version": 3
   },
   "file_extension": ".py",
   "mimetype": "text/x-python",
   "name": "python",
   "nbconvert_exporter": "python",
   "pygments_lexer": "ipython3",
   "version": "3.8.0"
  }
 },
 "nbformat": 4,
 "nbformat_minor": 4
}
