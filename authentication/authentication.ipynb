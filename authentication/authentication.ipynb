{
 "cells": [
  {
   "cell_type": "markdown",
   "metadata": {},
   "source": [
    "## Configurando Firebase"
   ]
  },
  {
   "cell_type": "code",
   "execution_count": 9,
   "metadata": {},
   "outputs": [],
   "source": [
    "import os \n",
    "from dotenv import load_dotenv\n",
    "from getpass import getpass\n",
    "import pyrebase\n",
    "load_dotenv()\n",
    "\n",
    "#firebase configs\n",
    "firebase_config = {\n",
    "    \"apiKey\": os.getenv(\"apiKey\"),\n",
    "    \"authDomain\": os.getenv(\"authDomain\"),\n",
    "    \"databaseURL\": os.getenv(\"databaseURL\"),\n",
    "    \"projecId\": os.getenv(\"projectId\"),\n",
    "    \"storageBucket\": os.getenv(\"storageBucket\"),\n",
    "    \"messagingSenderId\": os.getenv(\"messagingSenderId\"),\n",
    "    \"appId\": os.getenv(\"appId\")\n",
    "}\n",
    "#print(firebase_config)"
   ]
  },
  {
   "cell_type": "markdown",
   "metadata": {},
   "source": [
    "# Inicializando o Firebase"
   ]
  },
  {
   "cell_type": "code",
   "execution_count": 10,
   "metadata": {},
   "outputs": [],
   "source": [
    "firebase = pyrebase.initialize_app(firebase_config)\n",
    "auth = firebase.auth()"
   ]
  },
  {
   "cell_type": "markdown",
   "metadata": {},
   "source": [
    "# Criando Usuário"
   ]
  },
  {
   "cell_type": "code",
   "execution_count": 13,
   "metadata": {},
   "outputs": [
    {
     "name": "stdout",
     "output_type": "stream",
     "text": [
      "Informe o email: \n",
      "pinto_doido@gmail.com\n",
      "Senha super secreta: \n",
      "········\n",
      "Email já cadastrado\n"
     ]
    }
   ],
   "source": [
    "email = input(\"Informe o email: \\n\")\n",
    "password = getpass(\"Senha super secreta: \\n\")\n",
    "try:\n",
    "    usuario = auth.create_user_with_email_and_password(email, password)\n",
    "    auth.send_email_verification(usuario['idToken'])\n",
    "    print('Usuário criado com sucesso!')\n",
    "except:\n",
    "    print(\"Email já cadastrado\")"
   ]
  },
  {
   "cell_type": "markdown",
   "metadata": {},
   "source": [
    "# Logar Usuário"
   ]
  },
  {
   "cell_type": "code",
   "execution_count": 8,
   "metadata": {},
   "outputs": [
    {
     "name": "stdout",
     "output_type": "stream",
     "text": [
      "Informe o email: \n",
      "victor.santos.cd@gmail.com\n",
      "Senha super secreta: \n",
      "········\n",
      "Combinação usuário-senha incorreta!\n"
     ]
    }
   ],
   "source": [
    "email = input(\"Informe o email: \\n\")\n",
    "password = getpass(\"Senha super secreta: \\n\")\n",
    "try:\n",
    "    usuario_login = auth.sign_in_with_email_and_password(email, password)\n",
    "    print(\"Usuário logado com sucesso!\")\n",
    "except:\n",
    "    print(\"Combinação usuário-senha incorreta!\")"
   ]
  },
  {
   "cell_type": "markdown",
   "metadata": {},
   "source": [
    "# Pegando informaçes do objeto usuario_logado"
   ]
  },
  {
   "cell_type": "code",
   "execution_count": 8,
   "metadata": {},
   "outputs": [
    {
     "name": "stdout",
     "output_type": "stream",
     "text": [
      "{'kind': 'identitytoolkit#GetAccountInfoResponse', 'users': [{'localId': 'BNALXCDPr8eIq9H7WeSE7PFmcWv1', 'email': 'victorsantos.py@gmail.com', 'passwordHash': 'UkVEQUNURUQ=', 'emailVerified': True, 'passwordUpdatedAt': 1608329465642, 'providerUserInfo': [{'providerId': 'password', 'federatedId': 'victorsantos.py@gmail.com', 'email': 'victorsantos.py@gmail.com', 'rawId': 'victorsantos.py@gmail.com'}], 'validSince': '1608329465', 'lastLoginAt': '1608329575410', 'createdAt': '1608329131585', 'lastRefreshAt': '2020-12-18T22:12:55.410Z'}]}\n"
     ]
    }
   ],
   "source": [
    "user_info = auth.get_account_info(usuario_login['idToken'])\n",
    "print(user_info)"
   ]
  },
  {
   "cell_type": "markdown",
   "metadata": {},
   "source": [
    "# Reset de Password"
   ]
  },
  {
   "cell_type": "code",
   "execution_count": 9,
   "metadata": {},
   "outputs": [
    {
     "name": "stdout",
     "output_type": "stream",
     "text": [
      "Informe o email: \n",
      "victorsantos.py@gmail.com\n",
      "Enviado email para reset de senha!\n"
     ]
    }
   ],
   "source": [
    "email = input(\"Informe o email: \\n\")\n",
    "try:\n",
    "    auth.send_password_reset_email(email)\n",
    "    print(\"Enviado email para reset de senha!\")\n",
    "except:\n",
    "    print(\"Email não cadastrado!\")"
   ]
  }
 ],
 "metadata": {
  "kernelspec": {
   "display_name": "Python 3",
   "language": "python",
   "name": "python3"
  },
  "language_info": {
   "codemirror_mode": {
    "name": "ipython",
    "version": 3
   },
   "file_extension": ".py",
   "mimetype": "text/x-python",
   "name": "python",
   "nbconvert_exporter": "python",
   "pygments_lexer": "ipython3",
   "version": "3.6.10"
  }
 },
 "nbformat": 4,
 "nbformat_minor": 4
}
