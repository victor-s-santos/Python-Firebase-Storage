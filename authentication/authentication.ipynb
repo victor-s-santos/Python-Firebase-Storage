{
 "cells": [
  {
   "cell_type": "markdown",
   "metadata": {},
   "source": [
    "## Configurando Firebase"
   ]
  },
  {
   "cell_type": "code",
   "execution_count": 1,
   "metadata": {},
   "outputs": [],
   "source": [
    "import os \n",
    "from dotenv import load_dotenv\n",
    "from getpass import getpass\n",
    "import pyrebase\n",
    "load_dotenv()\n",
    "\n",
    "#firebase configs\n",
    "firebase_config = {\n",
    "    \"apiKey\": os.getenv(\"apiKey\"),\n",
    "    \"authDomain\": os.getenv(\"authDomain\"),\n",
    "    \"databaseURL\": os.getenv(\"databaseURL\"),\n",
    "    \"projecId\": os.getenv(\"proojectId\"),\n",
    "    \"storageBucket\": os.getenv(\"storageBucket\"),\n",
    "    \"messagingBucket\": os.getenv(\"messagingBucket\"),\n",
    "    \"appId\": os.getenv(\"appId\")\n",
    "}"
   ]
  },
  {
   "cell_type": "markdown",
   "metadata": {},
   "source": [
    "# Inicializando o Firebase"
   ]
  },
  {
   "cell_type": "code",
   "execution_count": 4,
   "metadata": {},
   "outputs": [],
   "source": [
    "firebase = pyrebase.initialize_app(firebase_config)\n",
    "auth = firebase.auth()"
   ]
  },
  {
   "cell_type": "markdown",
   "metadata": {},
   "source": [
    "# Criando Usuário"
   ]
  },
  {
   "cell_type": "code",
   "execution_count": 5,
   "metadata": {},
   "outputs": [
    {
     "name": "stdout",
     "output_type": "stream",
     "text": [
      "Seu email aqui:\n",
      "victorsantos.py@gmail.com\n",
      "Senha:\n",
      "········\n",
      "Usuário Criado com sucesso!\n"
     ]
    }
   ],
   "source": [
    "email = input('Seu email aqui:\\n')\n",
    "senha = getpass('Senha:\\n')\n",
    "try:\n",
    "    usuario = auth.create_user_with_email_and_password(email, senha)\n",
    "    auth.send_email_verification(usuario['idToken'])\n",
    "    print('Usuário Criado com sucesso!')\n",
    "except:\n",
    "    print('Email já cadastrado!')"
   ]
  },
  {
   "cell_type": "markdown",
   "metadata": {},
   "source": [
    "# Logar Usuário"
   ]
  },
  {
   "cell_type": "code",
   "execution_count": 25,
   "metadata": {},
   "outputs": [
    {
     "name": "stdout",
     "output_type": "stream",
     "text": [
      "Seu email aqui:\n",
      "victorsantos.py@gmail.com\n",
      "Senha:\n",
      "········\n",
      "Usuário Logado com sucesso!\n"
     ]
    }
   ],
   "source": [
    "email = input('Seu email aqui:\\n')\n",
    "senha = getpass('Senha:\\n')\n",
    "try:\n",
    "    usuario_logado = auth.sign_in_with_email_and_password(email, senha)\n",
    "    print('Usuário Logado com sucesso!')\n",
    "except:\n",
    "    print('Combinação usuário e senha incorreta!')"
   ]
  },
  {
   "cell_type": "markdown",
   "metadata": {},
   "source": [
    "# Pegando informaçes do objeto usuario_logado"
   ]
  },
  {
   "cell_type": "code",
   "execution_count": 19,
   "metadata": {},
   "outputs": [],
   "source": [
    "user_info = auth.get_account_info(usuario_logado['idToken'])"
   ]
  },
  {
   "cell_type": "code",
   "execution_count": 21,
   "metadata": {},
   "outputs": [
    {
     "name": "stdout",
     "output_type": "stream",
     "text": [
      "{'kind': 'identitytoolkit#GetAccountInfoResponse', 'users': [{'localId': 'pm8scOy1qHRjwHAqYsccNL6Xpgt1', 'email': 'victorsantos.py@gmail.com', 'passwordHash': 'UkVEQUNURUQ=', 'emailVerified': True, 'passwordUpdatedAt': 1607299163351, 'providerUserInfo': [{'providerId': 'password', 'federatedId': 'victorsantos.py@gmail.com', 'email': 'victorsantos.py@gmail.com', 'rawId': 'victorsantos.py@gmail.com'}], 'validSince': '1607299163', 'lastLoginAt': '1607299355064', 'createdAt': '1607299163351', 'lastRefreshAt': '2020-12-07T00:02:35.064Z'}]}\n"
     ]
    }
   ],
   "source": [
    "print(user_info)"
   ]
  },
  {
   "cell_type": "markdown",
   "metadata": {},
   "source": [
    "# Reset de Password"
   ]
  },
  {
   "cell_type": "code",
   "execution_count": 23,
   "metadata": {},
   "outputs": [
    {
     "name": "stdout",
     "output_type": "stream",
     "text": [
      "Seu email aqui:\n",
      "victorsantos.py@gmail.com\n",
      "Enviado o email para recadastro de senha\n"
     ]
    }
   ],
   "source": [
    "email = input('Seu email aqui:\\n')\n",
    "try:\n",
    "    auth.send_password_reset_email(email)\n",
    "    print('Enviado o email para recadastro de senha')\n",
    "except:\n",
    "    print('Email não cadastrado!')"
   ]
  }
 ],
 "metadata": {
  "kernelspec": {
   "display_name": "Python 3",
   "language": "python",
   "name": "python3"
  },
  "language_info": {
   "codemirror_mode": {
    "name": "ipython",
    "version": 3
   },
   "file_extension": ".py",
   "mimetype": "text/x-python",
   "name": "python",
   "nbconvert_exporter": "python",
   "pygments_lexer": "ipython3",
   "version": "3.6.10"
  }
 },
 "nbformat": 4,
 "nbformat_minor": 4
}
